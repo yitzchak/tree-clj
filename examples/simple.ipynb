{
 "cells": [
  {
   "cell_type": "code",
   "execution_count": 1,
   "id": "1570b0e0-3058-47e6-bad6-7345d206503c",
   "metadata": {},
   "outputs": [
    {
     "name": "stdout",
     "output_type": "stream",
     "text": [
      "To load \"tree-clj\":\n",
      "  Load 1 ASDF system:\n",
      "    tree-clj\n"
     ]
    },
    {
     "data": {
      "text/plain": [
       "(:TREE-CLJ)"
      ]
     },
     "execution_count": 1,
     "metadata": {},
     "output_type": "execute_result"
    },
    {
     "name": "stdout",
     "output_type": "stream",
     "text": [
      "\n",
      "; Loading \"tree-clj\"\n",
      "\n"
     ]
    }
   ],
   "source": [
    "(ql:quickload :tree-clj)"
   ]
  },
  {
   "cell_type": "code",
   "execution_count": 8,
   "id": "a6a12a4d-c68b-468c-a270-35522359050d",
   "metadata": {},
   "outputs": [
    {
     "data": {
      "text/plain": [
       "TREE"
      ]
     },
     "execution_count": 8,
     "metadata": {},
     "output_type": "execute_result"
    }
   ],
   "source": [
    "(defparameter tree (make-instance 'tree:tree\n",
    "                                  :nodes (list (make-instance 'tree:node :name \"node1\")\n",
    "                                               (make-instance 'tree:node :name \"node2\")\n",
    "                                               (make-instance 'tree:node :name \"node3\" :disabled t)\n",
    "                                               (make-instance 'tree:node :name \"node4\"\n",
    "                                                              :nodes (list (make-instance 'tree:node :name \"1\"\n",
    "                                                                                          :nodes (list (make-instance 'tree:node :name \"a\")\n",
    "                                                                                                       (make-instance 'tree:node :name \"a\")))\n",
    "                                                                           (make-instance 'tree:node :name \"2\"))))))"
   ]
  },
  {
   "cell_type": "code",
   "execution_count": 9,
   "id": "7b8e662c-b383-4895-8b4e-be8d73335a9c",
   "metadata": {},
   "outputs": [
    {
     "data": {
      "application/vnd.jupyter.widget-view+json": {
       "model_id": "14f50efc03da42b74aff78383101aacf",
       "version_major": 2,
       "version_minor": 0
      },
      "text/plain": [
       "A Jupyter Widget"
      ]
     },
     "execution_count": 9,
     "metadata": {},
     "output_type": "execute_result"
    }
   ],
   "source": [
    "tree"
   ]
  }
 ],
 "metadata": {
  "kernelspec": {
   "display_name": "Common Lisp (SBCL)",
   "language": "common-lisp",
   "name": "common-lisp_sbcl"
  },
  "language_info": {
   "codemirror_mode": "text/x-common-lisp",
   "file_extension": ".lisp",
   "mimetype": "text/x-common-lisp",
   "name": "common-lisp",
   "pygments_lexer": "common-lisp",
   "version": "2.1.1"
  }
 },
 "nbformat": 4,
 "nbformat_minor": 5
}
